{
 "cells": [
  {
   "cell_type": "code",
   "execution_count": 1,
   "id": "e0610548-707a-4c3b-8cae-71e99bb4fca9",
   "metadata": {},
   "outputs": [],
   "source": [
    "# Dacorator: 関数に機能を付属する(デコレートする)"
   ]
  },
  {
   "cell_type": "code",
   "execution_count": 6,
   "id": "6d097f2a-8683-4b9a-8c87-5c31de8870f1",
   "metadata": {},
   "outputs": [],
   "source": [
    "def say_name(name):\n",
    "    print(f\"I'm {name}\")"
   ]
  },
  {
   "cell_type": "code",
   "execution_count": 7,
   "id": "14f6b719-48f6-44a7-9e1c-d8083f5825b0",
   "metadata": {},
   "outputs": [
    {
     "name": "stdout",
     "output_type": "stream",
     "text": [
      "I'm Taro\n"
     ]
    }
   ],
   "source": [
    "say_name(\"Taro\")"
   ]
  },
  {
   "cell_type": "code",
   "execution_count": 9,
   "id": "7dc1c15c-e2b6-4508-af27-1befeb4e86fd",
   "metadata": {},
   "outputs": [],
   "source": [
    "# この関数の前に、\"Hello\"を言わせて、後に、\"nice to meet you\"を言わせるようにする"
   ]
  },
  {
   "cell_type": "code",
   "execution_count": 12,
   "id": "f3d91c01-f1c1-4f9f-bc24-bc1ce359270a",
   "metadata": {},
   "outputs": [],
   "source": [
    "def greeting(func):\n",
    "    def inner(name):\n",
    "        print(\"Hello\")\n",
    "        func(name)\n",
    "        print(\"nice to meet you\")\n",
    "    \n",
    "    return inner"
   ]
  },
  {
   "cell_type": "code",
   "execution_count": 15,
   "id": "129595fe-6f4f-4001-b8e2-222f66348226",
   "metadata": {},
   "outputs": [],
   "source": [
    "say_name = greeting(say_name)"
   ]
  },
  {
   "cell_type": "code",
   "execution_count": 16,
   "id": "7da67406-a820-45f2-82fd-9ae7b80bec92",
   "metadata": {},
   "outputs": [
    {
     "name": "stdout",
     "output_type": "stream",
     "text": [
      "Hello\n",
      "I'm Taro\n",
      "nice to meet you\n"
     ]
    }
   ],
   "source": [
    "say_name(\"Taro\")"
   ]
  },
  {
   "cell_type": "code",
   "execution_count": 17,
   "id": "4d9e33f6-28bd-49ed-9322-88ce50de8c39",
   "metadata": {},
   "outputs": [],
   "source": [
    "# 関数のネストによって、機能を追加することができたが、実務上はそうすることは少ない。"
   ]
  },
  {
   "cell_type": "code",
   "execution_count": 18,
   "id": "58dd003b-0e5c-406a-a0e1-1729d962ad20",
   "metadata": {},
   "outputs": [],
   "source": [
    "def greeting(func):\n",
    "    def inner(name):\n",
    "        print(\"Hello\")\n",
    "        func(name)\n",
    "        print(\"nice to meet you\")\n",
    "    \n",
    "    return inner"
   ]
  },
  {
   "cell_type": "code",
   "execution_count": 20,
   "id": "b79ec7e3-bcc6-4d76-b850-2a57aea4a90d",
   "metadata": {},
   "outputs": [],
   "source": [
    "@greeting\n",
    "def say_name(name):\n",
    "    print(f\"I'm {name}\")"
   ]
  },
  {
   "cell_type": "code",
   "execution_count": 21,
   "id": "3ce26af9-bb35-48d6-8c66-7554c892983f",
   "metadata": {},
   "outputs": [
    {
     "name": "stdout",
     "output_type": "stream",
     "text": [
      "Hello\n",
      "I'm Taro\n",
      "nice to meet you\n"
     ]
    }
   ],
   "source": [
    "say_name(\"Taro\")"
   ]
  },
  {
   "cell_type": "code",
   "execution_count": 22,
   "id": "cd137db1-dc30-4a79-90aa-33465561c14f",
   "metadata": {},
   "outputs": [],
   "source": [
    "def say_name_and_origin(name, origin):\n",
    "    print(f\"I'm {name}, I'm from {origin}\")"
   ]
  },
  {
   "cell_type": "code",
   "execution_count": 23,
   "id": "2fdc7a33-1061-44e4-90d4-237c247fef12",
   "metadata": {},
   "outputs": [
    {
     "name": "stdout",
     "output_type": "stream",
     "text": [
      "I'm Taro, I'm from Japan\n"
     ]
    }
   ],
   "source": [
    "say_name_and_origin(\"Taro\", \"Japan\")"
   ]
  },
  {
   "cell_type": "code",
   "execution_count": 31,
   "id": "09b75e08-76fa-4c81-96e8-c7c0eb3cdf15",
   "metadata": {},
   "outputs": [],
   "source": [
    "def greeting(func):\n",
    "    def inner(name):\n",
    "        print(\"Hello\")\n",
    "        func(name)\n",
    "        print(\"nice to meet you\")\n",
    "    \n",
    "    return inner\n",
    "\n",
    "@greeting\n",
    "def say_name_and_origin(name, origin):\n",
    "    print(f\"I'm {name}, I'm from {origin}\")"
   ]
  },
  {
   "cell_type": "code",
   "execution_count": 32,
   "id": "4f2d12a4-1145-413b-9537-7f8ea574e70e",
   "metadata": {},
   "outputs": [
    {
     "ename": "TypeError",
     "evalue": "inner() takes 1 positional argument but 2 were given",
     "output_type": "error",
     "traceback": [
      "\u001b[0;31m---------------------------------------------------------------------------\u001b[0m",
      "\u001b[0;31mTypeError\u001b[0m                                 Traceback (most recent call last)",
      "\u001b[0;32m/tmp/ipykernel_148/2791650279.py\u001b[0m in \u001b[0;36m<module>\u001b[0;34m\u001b[0m\n\u001b[0;32m----> 1\u001b[0;31m \u001b[0msay_name_and_origin\u001b[0m\u001b[0;34m(\u001b[0m\u001b[0;34m\"Taro\"\u001b[0m\u001b[0;34m,\u001b[0m \u001b[0;34m\"Japan\"\u001b[0m\u001b[0;34m)\u001b[0m\u001b[0;34m\u001b[0m\u001b[0;34m\u001b[0m\u001b[0m\n\u001b[0m",
      "\u001b[0;31mTypeError\u001b[0m: inner() takes 1 positional argument but 2 were given"
     ]
    }
   ],
   "source": [
    "say_name_and_origin(\"Taro\", \"Japan\")"
   ]
  },
  {
   "cell_type": "code",
   "execution_count": 28,
   "id": "790a1173-e64e-4221-87a7-238e50e4ec60",
   "metadata": {},
   "outputs": [],
   "source": [
    "# このように引数の数が違うため、エラーが起こってしまう\n",
    "# そのため、inner関数の引数を *arge, **kwarge へと変更する"
   ]
  },
  {
   "cell_type": "code",
   "execution_count": 33,
   "id": "2380d3ac-1ed8-47d1-bf08-c11eaaf2a07c",
   "metadata": {},
   "outputs": [],
   "source": [
    "def greeting(func):\n",
    "    def inner(*args, **kwargs):\n",
    "        print(\"Hello\")\n",
    "        func(*args, **kwargs)\n",
    "        print(\"nice to meet you\")\n",
    "    \n",
    "    return inner\n",
    "\n",
    "@greeting\n",
    "def say_name_and_origin(name, origin):\n",
    "    print(f\"I'm {name}, I'm from {origin}\")"
   ]
  },
  {
   "cell_type": "code",
   "execution_count": 34,
   "id": "4e8b871a-493f-4548-903a-d051f45b9b9f",
   "metadata": {},
   "outputs": [
    {
     "name": "stdout",
     "output_type": "stream",
     "text": [
      "Hello\n",
      "I'm Taro, I'm from Japan\n",
      "nice to meet you\n"
     ]
    }
   ],
   "source": [
    "say_name_and_origin(\"Taro\", \"Japan\")"
   ]
  },
  {
   "cell_type": "code",
   "execution_count": null,
   "id": "6d4b4c6c-dd8f-43b5-a09b-8ee0e17bde70",
   "metadata": {},
   "outputs": [],
   "source": []
  }
 ],
 "metadata": {
  "kernelspec": {
   "display_name": "Python 3 (ipykernel)",
   "language": "python",
   "name": "python3"
  },
  "language_info": {
   "codemirror_mode": {
    "name": "ipython",
    "version": 3
   },
   "file_extension": ".py",
   "mimetype": "text/x-python",
   "name": "python",
   "nbconvert_exporter": "python",
   "pygments_lexer": "ipython3",
   "version": "3.9.13"
  }
 },
 "nbformat": 4,
 "nbformat_minor": 5
}
