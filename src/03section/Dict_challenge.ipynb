{
 "cells": [
  {
   "cell_type": "code",
   "execution_count": 1,
   "id": "6085ef20-029c-461a-8caf-9e59d266def0",
   "metadata": {},
   "outputs": [],
   "source": [
    "game_dict = {1: \"poker\", 2: \"roulette\", 3: \"blackjack\"}"
   ]
  },
  {
   "cell_type": "code",
   "execution_count": 5,
   "id": "0ee54e88-10d1-4c06-9078-6cf2cf56a0cf",
   "metadata": {},
   "outputs": [
    {
     "name": "stdout",
     "output_type": "stream",
     "text": [
      "3\n"
     ]
    }
   ],
   "source": [
    "print(len(game_dict.keys()))"
   ]
  },
  {
   "cell_type": "code",
   "execution_count": 7,
   "id": "0ac564d4-4883-4e0f-8993-ca170d975e37",
   "metadata": {},
   "outputs": [
    {
     "name": "stdin",
     "output_type": "stream",
     "text": [
      "ゲームを選択してください 0\n"
     ]
    },
    {
     "name": "stdout",
     "output_type": "stream",
     "text": [
      "正しいゲーム番号を選択してください\n"
     ]
    },
    {
     "name": "stdin",
     "output_type": "stream",
     "text": [
      "ゲームを選択してください 5\n"
     ]
    },
    {
     "name": "stdout",
     "output_type": "stream",
     "text": [
      "正しいゲーム番号を選択してください\n"
     ]
    },
    {
     "name": "stdin",
     "output_type": "stream",
     "text": [
      "ゲームを選択してください 6\n"
     ]
    },
    {
     "name": "stdout",
     "output_type": "stream",
     "text": [
      "正しいゲーム番号を選択してください\n"
     ]
    },
    {
     "name": "stdin",
     "output_type": "stream",
     "text": [
      "ゲームを選択してください 1\n"
     ]
    },
    {
     "name": "stdout",
     "output_type": "stream",
     "text": [
      "あなたの選択したゲームはpokerですね\n"
     ]
    }
   ],
   "source": [
    "while True:\n",
    "    game_id = int(input(\"ゲームを選択してください\"))\n",
    "    if 0 < game_id <= len(game_dict.keys()):\n",
    "        print(f\"あなたの選択したゲームは{game_dict[game_id]}ですね\")\n",
    "        break\n",
    "    else:\n",
    "        print(\"正しいゲーム番号を選択してください\")"
   ]
  },
  {
   "cell_type": "code",
   "execution_count": 8,
   "id": "6626fae0-bf9a-4dee-8601-899efb5799be",
   "metadata": {},
   "outputs": [
    {
     "name": "stdin",
     "output_type": "stream",
     "text": [
      "ゲームを選択してください 0\n"
     ]
    },
    {
     "name": "stdout",
     "output_type": "stream",
     "text": [
      "正しいゲーム番号を選択してください\n"
     ]
    },
    {
     "name": "stdin",
     "output_type": "stream",
     "text": [
      "ゲームを選択してください 5\n"
     ]
    },
    {
     "name": "stdout",
     "output_type": "stream",
     "text": [
      "正しいゲーム番号を選択してください\n"
     ]
    },
    {
     "name": "stdin",
     "output_type": "stream",
     "text": [
      "ゲームを選択してください 100\n"
     ]
    },
    {
     "name": "stdout",
     "output_type": "stream",
     "text": [
      "正しいゲーム番号を選択してください\n"
     ]
    },
    {
     "name": "stdin",
     "output_type": "stream",
     "text": [
      "ゲームを選択してください 1\n"
     ]
    },
    {
     "name": "stdout",
     "output_type": "stream",
     "text": [
      "あなたの選択したゲームはpokerですね\n"
     ]
    }
   ],
   "source": [
    "while True:\n",
    "    game_id = int(input(\"ゲームを選択してください\"))\n",
    "    game_name = game_dict.get(game_id, None)\n",
    "    if game_name is not None:\n",
    "        print(f\"あなたの選択したゲームは{game_name}ですね\")\n",
    "        break\n",
    "    else:\n",
    "        print(\"正しいゲーム番号を選択してください\")"
   ]
  },
  {
   "cell_type": "code",
   "execution_count": 9,
   "id": "d24973b3-b55a-4278-a23d-2dc5dfada0a0",
   "metadata": {},
   "outputs": [
    {
     "name": "stdin",
     "output_type": "stream",
     "text": [
      "ゲームを選択してください 0\n"
     ]
    },
    {
     "name": "stdout",
     "output_type": "stream",
     "text": [
      "正しいゲーム番号を選択してください\n"
     ]
    },
    {
     "name": "stdin",
     "output_type": "stream",
     "text": [
      "ゲームを選択してください 5\n"
     ]
    },
    {
     "name": "stdout",
     "output_type": "stream",
     "text": [
      "正しいゲーム番号を選択してください\n"
     ]
    },
    {
     "name": "stdin",
     "output_type": "stream",
     "text": [
      "ゲームを選択してください 1\n"
     ]
    },
    {
     "name": "stdout",
     "output_type": "stream",
     "text": [
      "あなたの選択したゲームはpokerですね\n"
     ]
    }
   ],
   "source": [
    "while True:\n",
    "    game_id = int(input(\"ゲームを選択してください\"))\n",
    "    if game_id in game_dict:\n",
    "        print(f\"あなたの選択したゲームは{game_name}ですね\")\n",
    "        break\n",
    "    else:\n",
    "        print(\"正しいゲーム番号を選択してください\")"
   ]
  },
  {
   "cell_type": "code",
   "execution_count": 10,
   "id": "95de8c1a-0699-4268-8f35-f4604990ed6b",
   "metadata": {},
   "outputs": [],
   "source": [
    "text_list = [str(i) for i in range(100) if i%2 == 0]"
   ]
  },
  {
   "cell_type": "code",
   "execution_count": 11,
   "id": "ff102503-0245-40af-b4e5-64f66b3fe38a",
   "metadata": {},
   "outputs": [
    {
     "name": "stdout",
     "output_type": "stream",
     "text": [
      "0,2,4,6,8,10,12,14,16,18,20,22,24,26,28,30,32,34,36,38,40,42,44,46,48,50,52,54,56,58,60,62,64,66,68,70,72,74,76,78,80,82,84,86,88,90,92,94,96,98\n"
     ]
    }
   ],
   "source": [
    "print(\",\".join(text_list))"
   ]
  },
  {
   "cell_type": "code",
   "execution_count": null,
   "id": "526f2e93-95c8-41a1-836a-aba08b7855ea",
   "metadata": {},
   "outputs": [],
   "source": []
  }
 ],
 "metadata": {
  "kernelspec": {
   "display_name": "Python 3 (ipykernel)",
   "language": "python",
   "name": "python3"
  },
  "language_info": {
   "codemirror_mode": {
    "name": "ipython",
    "version": 3
   },
   "file_extension": ".py",
   "mimetype": "text/x-python",
   "name": "python",
   "nbconvert_exporter": "python",
   "pygments_lexer": "ipython3",
   "version": "3.9.13"
  }
 },
 "nbformat": 4,
 "nbformat_minor": 5
}
