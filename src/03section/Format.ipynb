{
 "cells": [
  {
   "cell_type": "code",
   "execution_count": 1,
   "id": "f4f12175-1e5f-414f-91b2-846731a40b92",
   "metadata": {},
   "outputs": [
    {
     "data": {
      "text/plain": [
       "'hello world'"
      ]
     },
     "execution_count": 1,
     "metadata": {},
     "output_type": "execute_result"
    }
   ],
   "source": [
    "#Format\n",
    "\n",
    "'hello {}'.format('world')"
   ]
  },
  {
   "cell_type": "code",
   "execution_count": 2,
   "id": "6c142394-eb39-4a59-ba18-7d83ab2ec464",
   "metadata": {},
   "outputs": [
    {
     "data": {
      "text/plain": [
       "'hello world'"
      ]
     },
     "execution_count": 2,
     "metadata": {},
     "output_type": "execute_result"
    }
   ],
   "source": [
    "a = 'hello'\n",
    "b = 'world'\n",
    "\"{} {}\".format(a, b)"
   ]
  },
  {
   "cell_type": "code",
   "execution_count": 3,
   "id": "bc174a82-07d5-4255-ba96-6214d591e74a",
   "metadata": {},
   "outputs": [
    {
     "data": {
      "text/plain": [
       "'Hey! John! How are you doing?'"
      ]
     },
     "execution_count": 3,
     "metadata": {},
     "output_type": "execute_result"
    }
   ],
   "source": [
    "name = \"John\"\n",
    "\"Hey! {}! How are you doing?\".format(name)"
   ]
  },
  {
   "cell_type": "code",
   "execution_count": 5,
   "id": "b99941f7-8cf6-4ed6-bf02-fde505f1508d",
   "metadata": {},
   "outputs": [
    {
     "data": {
      "text/plain": [
       "'balance: 100'"
      ]
     },
     "execution_count": 5,
     "metadata": {},
     "output_type": "execute_result"
    }
   ],
   "source": [
    "balance = 100\n",
    "\"balance: {}\".format(balance)"
   ]
  },
  {
   "cell_type": "code",
   "execution_count": 6,
   "id": "b40d74b1-c81c-450f-bbb7-dfed19d24220",
   "metadata": {},
   "outputs": [],
   "source": [
    "#fstring"
   ]
  },
  {
   "cell_type": "code",
   "execution_count": 7,
   "id": "496335e2-cf9c-43bc-a832-aed782f7e4f6",
   "metadata": {},
   "outputs": [
    {
     "name": "stdout",
     "output_type": "stream",
     "text": [
      "hello world\n"
     ]
    }
   ],
   "source": [
    "print(f\"{a} {b}\")"
   ]
  },
  {
   "cell_type": "code",
   "execution_count": 8,
   "id": "e7c025db-9614-403b-8154-37374a4eb551",
   "metadata": {},
   "outputs": [
    {
     "name": "stdin",
     "output_type": "stream",
     "text": [
      "年齢を教えてください 20\n"
     ]
    }
   ],
   "source": [
    "age = input(\"年齢を教えてください\")"
   ]
  },
  {
   "cell_type": "code",
   "execution_count": 9,
   "id": "11289357-5408-4e72-92fe-22c00838dc34",
   "metadata": {},
   "outputs": [
    {
     "name": "stdout",
     "output_type": "stream",
     "text": [
      "20\n"
     ]
    }
   ],
   "source": [
    "print(age)"
   ]
  },
  {
   "cell_type": "code",
   "execution_count": null,
   "id": "81da29b4-690f-437b-8b06-0be8fb91b457",
   "metadata": {},
   "outputs": [],
   "source": []
  }
 ],
 "metadata": {
  "kernelspec": {
   "display_name": "Python 3 (ipykernel)",
   "language": "python",
   "name": "python3"
  },
  "language_info": {
   "codemirror_mode": {
    "name": "ipython",
    "version": 3
   },
   "file_extension": ".py",
   "mimetype": "text/x-python",
   "name": "python",
   "nbconvert_exporter": "python",
   "pygments_lexer": "ipython3",
   "version": "3.9.13"
  }
 },
 "nbformat": 4,
 "nbformat_minor": 5
}
