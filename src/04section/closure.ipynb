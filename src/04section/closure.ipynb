{
 "cells": [
  {
   "cell_type": "code",
   "execution_count": 1,
   "id": "b6f018fa-3841-468d-99f9-f3a8db1728fc",
   "metadata": {},
   "outputs": [],
   "source": [
    "# closure(クロージャー)"
   ]
  },
  {
   "cell_type": "code",
   "execution_count": 2,
   "id": "f85c8446-c959-4456-9d2f-1db14e556ed4",
   "metadata": {},
   "outputs": [],
   "source": [
    "# Pythonは全てのものがオブジェクト\n",
    "# ⇨ 関数(function)もオブジェクト"
   ]
  },
  {
   "cell_type": "code",
   "execution_count": 3,
   "id": "ea64e0c6-13cc-4f15-a9e0-34918dcde7de",
   "metadata": {},
   "outputs": [],
   "source": [
    "def compute_square(num):\n",
    "    return num ** 2"
   ]
  },
  {
   "cell_type": "code",
   "execution_count": 4,
   "id": "f34cd2c9-ef55-42e4-b3eb-490605310921",
   "metadata": {},
   "outputs": [
    {
     "data": {
      "text/plain": [
       "16"
      ]
     },
     "execution_count": 4,
     "metadata": {},
     "output_type": "execute_result"
    }
   ],
   "source": [
    "compute_square(4)"
   ]
  },
  {
   "cell_type": "code",
   "execution_count": 5,
   "id": "972ef9da-90ee-4d6a-b2da-b220b1722540",
   "metadata": {},
   "outputs": [],
   "source": [
    "f = compute_square"
   ]
  },
  {
   "cell_type": "code",
   "execution_count": 6,
   "id": "75bb8c91-c47f-4d15-8d68-41b1fcff11cd",
   "metadata": {},
   "outputs": [
    {
     "data": {
      "text/plain": [
       "25"
      ]
     },
     "execution_count": 6,
     "metadata": {},
     "output_type": "execute_result"
    }
   ],
   "source": [
    "f(5)"
   ]
  },
  {
   "cell_type": "code",
   "execution_count": 7,
   "id": "90b8a182-58f0-4a57-a490-87d60f353b62",
   "metadata": {},
   "outputs": [
    {
     "name": "stdout",
     "output_type": "stream",
     "text": [
      "<function compute_square at 0x40039bcc10>\n"
     ]
    }
   ],
   "source": [
    "print(f)"
   ]
  },
  {
   "cell_type": "code",
   "execution_count": 8,
   "id": "4b33a959-0c55-402f-9f5b-0dc27da4a6e0",
   "metadata": {},
   "outputs": [],
   "source": [
    "# f つまり compute_squareもfunctionというオブジェクト\n",
    "# ()をつけることというのは、関数をコールするという命令を出していることと同義"
   ]
  },
  {
   "cell_type": "code",
   "execution_count": 9,
   "id": "63ae1e01-77bc-4d72-a3f1-2aa94463e853",
   "metadata": {},
   "outputs": [],
   "source": [
    "function_list = [1, \"aaa\", [1, 2, 3], f]"
   ]
  },
  {
   "cell_type": "code",
   "execution_count": 10,
   "id": "79b6e209-7f96-4ffc-9af2-ef09a0314f97",
   "metadata": {},
   "outputs": [],
   "source": [
    "# 関数もint,strといったオブジェクトと同じなので、上記のように、functionというオブジェクト(今回はf)をリスト内に入れたりすることも可能"
   ]
  },
  {
   "cell_type": "code",
   "execution_count": 11,
   "id": "225a4bc4-2efc-435a-8a08-29ffe639c331",
   "metadata": {},
   "outputs": [],
   "source": [
    "# さらに言うと、関数の引数として、関数を渡すことも可能"
   ]
  },
  {
   "cell_type": "code",
   "execution_count": 18,
   "id": "f6604ef5-7fc3-444e-a396-7d9a1d61147f",
   "metadata": {},
   "outputs": [],
   "source": [
    "def execute_func(func, num):\n",
    "    return func(num)"
   ]
  },
  {
   "cell_type": "code",
   "execution_count": 19,
   "id": "27489605-8e40-4782-99a6-8cd9aca0fe31",
   "metadata": {},
   "outputs": [
    {
     "name": "stdout",
     "output_type": "stream",
     "text": [
      "25\n"
     ]
    }
   ],
   "source": [
    "print(execute_func(f, 5))"
   ]
  },
  {
   "cell_type": "code",
   "execution_count": 20,
   "id": "a103c5f7-b66e-4b9b-a9a9-58b13bdfaf38",
   "metadata": {},
   "outputs": [],
   "source": [
    "# また、関数の返り値として、関数を返すことも可能"
   ]
  },
  {
   "cell_type": "code",
   "execution_count": 21,
   "id": "f62f1fb0-d3ee-441b-ade9-9eb845f09fd6",
   "metadata": {},
   "outputs": [],
   "source": [
    "def return_func():\n",
    "    \n",
    "    def inner_func():\n",
    "        print(\"this is inner function\")\n",
    "    \n",
    "    return inner_func"
   ]
  },
  {
   "cell_type": "code",
   "execution_count": 24,
   "id": "7ab807b5-66b2-42e7-99d2-f8577d1b6fca",
   "metadata": {},
   "outputs": [
    {
     "name": "stdout",
     "output_type": "stream",
     "text": [
      "<function return_func.<locals>.inner_func at 0x4049f69940>\n"
     ]
    }
   ],
   "source": [
    "f = return_func()\n",
    "print(f) "
   ]
  },
  {
   "cell_type": "code",
   "execution_count": 25,
   "id": "a1ceaa75-06f4-4660-8dbf-180e62809918",
   "metadata": {},
   "outputs": [
    {
     "name": "stdout",
     "output_type": "stream",
     "text": [
      "this is inner function\n"
     ]
    }
   ],
   "source": [
    "f()"
   ]
  },
  {
   "cell_type": "code",
   "execution_count": 26,
   "id": "895337e5-44f1-4874-a7ca-43e9936a3cc8",
   "metadata": {},
   "outputs": [],
   "source": [
    "# closure: 状態をキープした関数を作ることができる"
   ]
  },
  {
   "cell_type": "code",
   "execution_count": 27,
   "id": "3eb7a2a3-562d-4da7-9eb4-213c1602a304",
   "metadata": {},
   "outputs": [],
   "source": [
    "def power(exponent):\n",
    "    \n",
    "    def inner_power(base):\n",
    "        return base ** exponent\n",
    "    \n",
    "    return inner_power"
   ]
  },
  {
   "cell_type": "code",
   "execution_count": 28,
   "id": "c36f33e5-5adf-4f8b-9a63-ed2c84408716",
   "metadata": {},
   "outputs": [],
   "source": [
    "power_four = power(4)"
   ]
  },
  {
   "cell_type": "code",
   "execution_count": 31,
   "id": "3f1e265b-54c8-43b5-b4f6-7579ef1c3bf3",
   "metadata": {},
   "outputs": [
    {
     "name": "stdout",
     "output_type": "stream",
     "text": [
      "<function power.<locals>.inner_power at 0x404a11a310>\n"
     ]
    },
    {
     "data": {
      "text/plain": [
       "function"
      ]
     },
     "execution_count": 31,
     "metadata": {},
     "output_type": "execute_result"
    }
   ],
   "source": [
    "print(power_four)\n",
    "type(power_four)"
   ]
  },
  {
   "cell_type": "code",
   "execution_count": 34,
   "id": "88773f5c-d258-489a-b94a-51f573fd2e6a",
   "metadata": {},
   "outputs": [
    {
     "data": {
      "text/plain": [
       "16"
      ]
     },
     "execution_count": 34,
     "metadata": {},
     "output_type": "execute_result"
    }
   ],
   "source": [
    "power_four(2)"
   ]
  },
  {
   "cell_type": "code",
   "execution_count": 35,
   "id": "d2678a64-7717-4349-837b-dd6a8b181ed3",
   "metadata": {},
   "outputs": [
    {
     "data": {
      "text/plain": [
       "81"
      ]
     },
     "execution_count": 35,
     "metadata": {},
     "output_type": "execute_result"
    }
   ],
   "source": [
    "power_four(3)"
   ]
  },
  {
   "cell_type": "code",
   "execution_count": 36,
   "id": "df2ee27d-b4b0-46e0-9cd5-6aa0a8933a89",
   "metadata": {},
   "outputs": [],
   "source": [
    "# 上記の例の通り、exponent = 4 の状態をキープした関数を作ることができる"
   ]
  },
  {
   "cell_type": "code",
   "execution_count": 37,
   "id": "3cfa4627-dc2e-46a3-ab04-2d96c6ccf2a7",
   "metadata": {},
   "outputs": [],
   "source": [
    "power_five = power(5)"
   ]
  },
  {
   "cell_type": "code",
   "execution_count": 38,
   "id": "8b300d44-0ff2-48f1-aede-340258e4a4a4",
   "metadata": {},
   "outputs": [
    {
     "data": {
      "text/plain": [
       "32"
      ]
     },
     "execution_count": 38,
     "metadata": {},
     "output_type": "execute_result"
    }
   ],
   "source": [
    "power_five(2)"
   ]
  },
  {
   "cell_type": "code",
   "execution_count": 39,
   "id": "63a47d21-8a08-43cc-84b1-e041f5b60cb4",
   "metadata": {},
   "outputs": [],
   "source": [
    "# 以上の例が、状態を静的に保っておく使い方の例"
   ]
  },
  {
   "cell_type": "code",
   "execution_count": 40,
   "id": "4fb87280-443a-4da0-b397-1a67f97740d2",
   "metadata": {},
   "outputs": [],
   "source": [
    "# 以下で、状態を動的にする使い方の例を挙げる"
   ]
  },
  {
   "cell_type": "code",
   "execution_count": 41,
   "id": "ad516723-7c2c-4ea7-b938-68993c14919d",
   "metadata": {},
   "outputs": [],
   "source": [
    "def average():\n",
    "    nums = []\n",
    "    \n",
    "    def inner_average(num):\n",
    "        nums.append(num)\n",
    "        return sum(nums) / len(nums)\n",
    "    \n",
    "    return inner_average "
   ]
  },
  {
   "cell_type": "code",
   "execution_count": 42,
   "id": "605db5f2-a173-405c-ab39-3adbb4271997",
   "metadata": {},
   "outputs": [],
   "source": [
    "average_nums = average()"
   ]
  },
  {
   "cell_type": "code",
   "execution_count": 43,
   "id": "dad0bf61-3259-49c4-8df3-6ac0fe5b2b3f",
   "metadata": {},
   "outputs": [
    {
     "data": {
      "text/plain": [
       "5.0"
      ]
     },
     "execution_count": 43,
     "metadata": {},
     "output_type": "execute_result"
    }
   ],
   "source": [
    "average_nums(5)"
   ]
  },
  {
   "cell_type": "code",
   "execution_count": 44,
   "id": "b771a10e-ee73-452b-9720-db87aa415595",
   "metadata": {},
   "outputs": [
    {
     "data": {
      "text/plain": [
       "10.0"
      ]
     },
     "execution_count": 44,
     "metadata": {},
     "output_type": "execute_result"
    }
   ],
   "source": [
    "average_nums(15)"
   ]
  },
  {
   "cell_type": "code",
   "execution_count": null,
   "id": "c4911ff8-feb9-4401-b0c7-0020b3effd33",
   "metadata": {},
   "outputs": [],
   "source": []
  }
 ],
 "metadata": {
  "kernelspec": {
   "display_name": "Python 3 (ipykernel)",
   "language": "python",
   "name": "python3"
  },
  "language_info": {
   "codemirror_mode": {
    "name": "ipython",
    "version": 3
   },
   "file_extension": ".py",
   "mimetype": "text/x-python",
   "name": "python",
   "nbconvert_exporter": "python",
   "pygments_lexer": "ipython3",
   "version": "3.9.13"
  }
 },
 "nbformat": 4,
 "nbformat_minor": 5
}
