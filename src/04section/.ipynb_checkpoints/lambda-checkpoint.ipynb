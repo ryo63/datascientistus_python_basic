{
 "cells": [
  {
   "cell_type": "code",
   "execution_count": 1,
   "id": "a742df44-5465-4544-bd52-4766381f1672",
   "metadata": {},
   "outputs": [],
   "source": [
    "# lambda関数(無名関数)"
   ]
  },
  {
   "cell_type": "code",
   "execution_count": 2,
   "id": "c67e4052-faa1-41f0-a842-15a6bec19672",
   "metadata": {},
   "outputs": [],
   "source": [
    "def square(x):\n",
    "    return x * x"
   ]
  },
  {
   "cell_type": "code",
   "execution_count": 3,
   "id": "340b9c37-c827-4377-9712-ef1e0ecf74c5",
   "metadata": {},
   "outputs": [
    {
     "data": {
      "text/plain": [
       "<function __main__.<lambda>(x)>"
      ]
     },
     "execution_count": 3,
     "metadata": {},
     "output_type": "execute_result"
    }
   ],
   "source": [
    "lambda x: x * x"
   ]
  },
  {
   "cell_type": "code",
   "execution_count": 6,
   "id": "e812d8be-f2f2-4fd8-94d2-25e033ea94d8",
   "metadata": {},
   "outputs": [],
   "source": [
    "def power(exponent):\n",
    "    def inner_power(base):\n",
    "        return base ** exponent\n",
    "    return inner_power"
   ]
  },
  {
   "cell_type": "code",
   "execution_count": 7,
   "id": "e484cace-4c03-4681-b14f-88891a43a2ec",
   "metadata": {},
   "outputs": [],
   "source": [
    "# lambda関数は、関数の戻り値として使ったり、関数の引数に用いる"
   ]
  },
  {
   "cell_type": "code",
   "execution_count": 8,
   "id": "321527a1-fc1f-49a2-957b-54b1bc49a2ba",
   "metadata": {},
   "outputs": [],
   "source": [
    "# ↑をlambda関数を用いて表してみる"
   ]
  },
  {
   "cell_type": "code",
   "execution_count": 9,
   "id": "a996226a-429b-4725-9b34-754c96354543",
   "metadata": {},
   "outputs": [],
   "source": [
    "def power(exponent):\n",
    "    return lambda x: x ** exponent"
   ]
  },
  {
   "cell_type": "code",
   "execution_count": 10,
   "id": "f8c04c31-527d-4ab1-8b66-13caf1434aa7",
   "metadata": {},
   "outputs": [],
   "source": [
    "power_five = power(5)"
   ]
  },
  {
   "cell_type": "code",
   "execution_count": 11,
   "id": "b74dfcd5-3cb7-4412-90e5-4d885f646249",
   "metadata": {},
   "outputs": [
    {
     "data": {
      "text/plain": [
       "243"
      ]
     },
     "execution_count": 11,
     "metadata": {},
     "output_type": "execute_result"
    }
   ],
   "source": [
    "power_five(3)"
   ]
  },
  {
   "cell_type": "code",
   "execution_count": 12,
   "id": "1c2754fa-a1f8-485e-8b84-f94673e737ce",
   "metadata": {},
   "outputs": [],
   "source": [
    "numbers = [6, 2, 5, 43, 5, 36, 67, 2]"
   ]
  },
  {
   "cell_type": "code",
   "execution_count": 18,
   "id": "6edac720-e204-4a72-8a14-ae8ed5732cd6",
   "metadata": {},
   "outputs": [],
   "source": [
    "filtered_num = filter(lambda x: x % 2, numbers)"
   ]
  },
  {
   "cell_type": "code",
   "execution_count": 19,
   "id": "2266a952-2d5a-44a1-81be-e512c590bd55",
   "metadata": {},
   "outputs": [
    {
     "name": "stdout",
     "output_type": "stream",
     "text": [
      "[5, 43, 5, 67]\n"
     ]
    }
   ],
   "source": [
    "print(list(filtered_num))"
   ]
  },
  {
   "cell_type": "code",
   "execution_count": 17,
   "id": "c2c3f900-d4c4-4dd1-bea6-1e3917687542",
   "metadata": {},
   "outputs": [
    {
     "data": {
      "text/plain": [
       "filter"
      ]
     },
     "execution_count": 17,
     "metadata": {},
     "output_type": "execute_result"
    }
   ],
   "source": [
    "type(filtered_num)"
   ]
  },
  {
   "cell_type": "code",
   "execution_count": null,
   "id": "8bfc4413-e973-4a60-83a9-a2e471b82d8a",
   "metadata": {},
   "outputs": [],
   "source": []
  }
 ],
 "metadata": {
  "kernelspec": {
   "display_name": "Python 3 (ipykernel)",
   "language": "python",
   "name": "python3"
  },
  "language_info": {
   "codemirror_mode": {
    "name": "ipython",
    "version": 3
   },
   "file_extension": ".py",
   "mimetype": "text/x-python",
   "name": "python",
   "nbconvert_exporter": "python",
   "pygments_lexer": "ipython3",
   "version": "3.9.13"
  }
 },
 "nbformat": 4,
 "nbformat_minor": 5
}
