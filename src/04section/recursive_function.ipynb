{
 "cells": [
  {
   "cell_type": "code",
   "execution_count": 1,
   "id": "5ec36c78-0099-4d7f-ae53-4e0d0b696b1e",
   "metadata": {},
   "outputs": [],
   "source": [
    "# Recursive Function: 再帰関数"
   ]
  },
  {
   "cell_type": "code",
   "execution_count": 2,
   "id": "d8fcdaff-fa7d-421f-9221-f6f7624c1b15",
   "metadata": {},
   "outputs": [],
   "source": [
    "# 関数内で自身の関数をcallする関数"
   ]
  },
  {
   "cell_type": "code",
   "execution_count": 3,
   "id": "16fba96a-1fb4-4820-a7f1-389bcf7a1325",
   "metadata": {},
   "outputs": [],
   "source": [
    "# 例えば、階乗の計算をする関数等で使うことができる"
   ]
  },
  {
   "cell_type": "code",
   "execution_count": 4,
   "id": "ceaf5fe2-a969-4b84-8bde-425172239a1e",
   "metadata": {},
   "outputs": [],
   "source": [
    "# n! = n * (n-1) * (n-2) * ...\n",
    "#    = n * (n-1)!\n",
    "# n!を求めるために、(n-1)!を使う。その後も同じく、階乗を求める関数を再利用しながら計算することができる。"
   ]
  },
  {
   "cell_type": "code",
   "execution_count": 5,
   "id": "0e0d06da-d8e7-424a-81bf-db26c36e8356",
   "metadata": {},
   "outputs": [],
   "source": [
    "def factorial(num):\n",
    "    if num == 1:\n",
    "        return 1\n",
    "    else:\n",
    "        return num * factorial(num - 1)"
   ]
  },
  {
   "cell_type": "code",
   "execution_count": 6,
   "id": "7c90cb4f-0ea1-4e32-98af-60b4db8661d6",
   "metadata": {},
   "outputs": [
    {
     "data": {
      "text/plain": [
       "6"
      ]
     },
     "execution_count": 6,
     "metadata": {},
     "output_type": "execute_result"
    }
   ],
   "source": [
    "factorial(3)"
   ]
  },
  {
   "cell_type": "code",
   "execution_count": 8,
   "id": "4e0471c1-b7b4-411e-969c-c2f00c0e4385",
   "metadata": {},
   "outputs": [],
   "source": [
    "def fibonacci(index):\n",
    "    if index == 1 or index == 2:\n",
    "        return 1\n",
    "    return fibonacci(index-1) + fibonacci(index-2)"
   ]
  },
  {
   "cell_type": "code",
   "execution_count": 56,
   "id": "31645d96-ee0d-412c-b0c4-2b760f27d4c3",
   "metadata": {},
   "outputs": [
    {
     "data": {
      "text/plain": [
       "556"
      ]
     },
     "execution_count": 56,
     "metadata": {},
     "output_type": "execute_result"
    }
   ],
   "source": [
    "fibonacci(100)"
   ]
  },
  {
   "cell_type": "code",
   "execution_count": 52,
   "id": "0263eed6-a623-4110-a2b5-e76342037190",
   "metadata": {},
   "outputs": [],
   "source": [
    "fibonacci_list = [0, 1]\n",
    "def fibonacci(index):\n",
    "    if index < 2:\n",
    "        return fibonacci_list[index]\n",
    "    \n",
    "    for i in range(2, index+1):\n",
    "        fibonacci_list.append(fibonacci_list[i-2] + fibonacci_list[i-1])\n",
    "    return fibonacci_list[index]"
   ]
  },
  {
   "cell_type": "code",
   "execution_count": 54,
   "id": "e1283cd5-b7b5-45e4-9ee7-9a6d43a92c7e",
   "metadata": {},
   "outputs": [
    {
     "data": {
      "text/plain": [
       "1"
      ]
     },
     "execution_count": 54,
     "metadata": {},
     "output_type": "execute_result"
    }
   ],
   "source": [
    "fibonacci()"
   ]
  },
  {
   "cell_type": "code",
   "execution_count": 57,
   "id": "5224ddb2-1c0b-4929-9e6e-e9314e959922",
   "metadata": {},
   "outputs": [],
   "source": [
    "def fibonacci_recursive(n):\n",
    "    if n < 2:\n",
    "        return n\n",
    "    else:\n",
    "        return fibonacci_recursive(n-1) + fibonacci_recursive(n-2)"
   ]
  },
  {
   "cell_type": "code",
   "execution_count": 58,
   "id": "6c1c1fcb-ad90-4ae0-ba54-a0527944707a",
   "metadata": {},
   "outputs": [],
   "source": [
    "def fibonacci(n):\n",
    "    if n < 2:\n",
    "        return n\n",
    "    else:\n",
    "        n_1 = 1\n",
    "        n_2 = 0\n",
    "        for i in range(n-1):\n",
    "            result = n_1 + n_2\n",
    "            n_2 = n_1\n",
    "            n_1 = result\n",
    "        return result"
   ]
  },
  {
   "cell_type": "code",
   "execution_count": 59,
   "id": "61e58208-962a-4a4b-bea6-800a0b0fb4e3",
   "metadata": {},
   "outputs": [
    {
     "data": {
      "text/plain": [
       "55"
      ]
     },
     "execution_count": 59,
     "metadata": {},
     "output_type": "execute_result"
    }
   ],
   "source": [
    "fibonacci(10)"
   ]
  },
  {
   "cell_type": "code",
   "execution_count": 60,
   "id": "33272994-4e2d-41d4-ba16-f8c94f06d961",
   "metadata": {},
   "outputs": [
    {
     "data": {
      "text/plain": [
       "354224848179261915075"
      ]
     },
     "execution_count": 60,
     "metadata": {},
     "output_type": "execute_result"
    }
   ],
   "source": [
    "fibonacci(100)"
   ]
  },
  {
   "cell_type": "code",
   "execution_count": null,
   "id": "4985c00f-df89-462e-95db-f4c672c8f249",
   "metadata": {},
   "outputs": [],
   "source": []
  }
 ],
 "metadata": {
  "kernelspec": {
   "display_name": "Python 3 (ipykernel)",
   "language": "python",
   "name": "python3"
  },
  "language_info": {
   "codemirror_mode": {
    "name": "ipython",
    "version": 3
   },
   "file_extension": ".py",
   "mimetype": "text/x-python",
   "name": "python",
   "nbconvert_exporter": "python",
   "pygments_lexer": "ipython3",
   "version": "3.9.13"
  }
 },
 "nbformat": 4,
 "nbformat_minor": 5
}
