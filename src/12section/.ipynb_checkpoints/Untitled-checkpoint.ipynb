{
 "cells": [
  {
   "cell_type": "code",
   "execution_count": 1,
   "id": "dd12c66e-87fb-4e76-90a3-2dc3d29f3ff9",
   "metadata": {},
   "outputs": [],
   "source": [
    "import sqlite3"
   ]
  },
  {
   "cell_type": "code",
   "execution_count": 14,
   "id": "f752982c-6705-484e-bffd-c5568e90193a",
   "metadata": {},
   "outputs": [],
   "source": [
    "con = sqlite3.connect(\"sample.db\")"
   ]
  },
  {
   "cell_type": "code",
   "execution_count": 15,
   "id": "bd1bf577-0d6d-4bcf-a72b-a690a64ec6c6",
   "metadata": {},
   "outputs": [
    {
     "name": "stdout",
     "output_type": "stream",
     "text": [
      "<sqlite3.Connection object at 0x4048aff4e0>\n"
     ]
    }
   ],
   "source": [
    "print(con)"
   ]
  },
  {
   "cell_type": "code",
   "execution_count": 16,
   "id": "f5d6166a-9d48-48f3-b6f6-cd3a12832441",
   "metadata": {},
   "outputs": [],
   "source": [
    "cursor = con.cursor()"
   ]
  },
  {
   "cell_type": "code",
   "execution_count": 17,
   "id": "f8faf971-07b9-4116-a189-f1852bcebfd7",
   "metadata": {},
   "outputs": [
    {
     "name": "stdout",
     "output_type": "stream",
     "text": [
      "<sqlite3.Cursor object at 0x404a4bd1f0>\n"
     ]
    }
   ],
   "source": [
    "print(cursor)"
   ]
  },
  {
   "cell_type": "code",
   "execution_count": 22,
   "id": "3390b502-bd30-44fb-a63a-623c18cc1483",
   "metadata": {},
   "outputs": [
    {
     "data": {
      "text/plain": [
       "<sqlite3.Cursor at 0x404a4bd1f0>"
      ]
     },
     "execution_count": 22,
     "metadata": {},
     "output_type": "execute_result"
    }
   ],
   "source": [
    "create_user_table_query = \"\"\"\n",
    "CREATE TABLE IF NOT EXISTS User (\n",
    "    UserId INTEGER PRIMARY KEY NOT NULL,\n",
    "    Name TEXT DEFAULT 'anonymous',\n",
    "    Email TEXT NOT NULL,\n",
    "    Age INTEGER CHECK(Age>0)\n",
    ")\n",
    "\"\"\"\n",
    "cursor.execute(create_user_table_query)"
   ]
  },
  {
   "cell_type": "code",
   "execution_count": 23,
   "id": "fb31b0d2-7aeb-4809-8125-1ffd1583cf91",
   "metadata": {},
   "outputs": [
    {
     "data": {
      "text/plain": [
       "<sqlite3.Cursor at 0x404a4bd1f0>"
      ]
     },
     "execution_count": 23,
     "metadata": {},
     "output_type": "execute_result"
    }
   ],
   "source": [
    "insert_user_query = \"\"\"\n",
    "    INSERT INTO User VALUES(1, 'John', 'john@gmail.com', 30);\n",
    "    INSERT INTO User VALUES(2, 'Emily', 'emily@gmail.com', 20);\n",
    "    INSERT INTO User VALUES(3, 'Emma', 'emma@gmail.com', 40);\n",
    "\"\"\"\n",
    "cursor.executescript(insert_user_query)"
   ]
  },
  {
   "cell_type": "code",
   "execution_count": 11,
   "id": "e55e073d-1bd2-4362-9612-fe17ac809266",
   "metadata": {},
   "outputs": [],
   "source": [
    "con.commit()"
   ]
  },
  {
   "cell_type": "code",
   "execution_count": null,
   "id": "9fb65834-7e15-408a-aca4-50090553915e",
   "metadata": {},
   "outputs": [],
   "source": []
  }
 ],
 "metadata": {
  "kernelspec": {
   "display_name": "Python 3 (ipykernel)",
   "language": "python",
   "name": "python3"
  },
  "language_info": {
   "codemirror_mode": {
    "name": "ipython",
    "version": 3
   },
   "file_extension": ".py",
   "mimetype": "text/x-python",
   "name": "python",
   "nbconvert_exporter": "python",
   "pygments_lexer": "ipython3",
   "version": "3.9.13"
  }
 },
 "nbformat": 4,
 "nbformat_minor": 5
}
