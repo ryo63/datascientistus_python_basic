{
 "cells": [
  {
   "cell_type": "code",
   "execution_count": 1,
   "id": "0957d25d-b1aa-45b3-a458-a8d10facef69",
   "metadata": {},
   "outputs": [],
   "source": [
    "import re"
   ]
  },
  {
   "cell_type": "code",
   "execution_count": 2,
   "id": "0b3d154e-7064-4b30-8998-27d75a79aa9b",
   "metadata": {},
   "outputs": [],
   "source": [
    "# regular expression(正規表現)"
   ]
  },
  {
   "cell_type": "code",
   "execution_count": 3,
   "id": "9e8363d0-4651-471a-a6e7-f31dbe6cb1e6",
   "metadata": {},
   "outputs": [],
   "source": [
    "email = \"risanoftoday@gmail.com\""
   ]
  },
  {
   "cell_type": "code",
   "execution_count": 4,
   "id": "cf2b7041-f6e0-4164-9620-470069ebb222",
   "metadata": {},
   "outputs": [],
   "source": [
    "matched = re.search(\"@\\w+\\.\", email)"
   ]
  },
  {
   "cell_type": "code",
   "execution_count": 5,
   "id": "18c4dafe-71ce-40d9-aa1e-3bcdad92a3e1",
   "metadata": {},
   "outputs": [
    {
     "name": "stdout",
     "output_type": "stream",
     "text": [
      "<re.Match object; span=(12, 19), match='@gmail.'>\n"
     ]
    }
   ],
   "source": [
    "print(matched)"
   ]
  },
  {
   "cell_type": "code",
   "execution_count": 12,
   "id": "9eff604d-99b7-40ae-b7b6-281fa0d98ada",
   "metadata": {},
   "outputs": [],
   "source": [
    "faked_email = \"risanoftoday@gmailcom\""
   ]
  },
  {
   "cell_type": "code",
   "execution_count": 13,
   "id": "19cec986-1880-4bc9-bea7-a8739a713765",
   "metadata": {},
   "outputs": [],
   "source": [
    "matched = re.search(\"@\\w+\\.\", faked_email)"
   ]
  },
  {
   "cell_type": "code",
   "execution_count": 14,
   "id": "cf3f103b-c576-41a1-b788-20bad4d494cf",
   "metadata": {},
   "outputs": [
    {
     "name": "stdout",
     "output_type": "stream",
     "text": [
      "None\n"
     ]
    }
   ],
   "source": [
    "print(matched)"
   ]
  },
  {
   "cell_type": "code",
   "execution_count": 15,
   "id": "a1e0da1e-eb18-4406-9871-06ea14b9fb3f",
   "metadata": {},
   "outputs": [
    {
     "name": "stdout",
     "output_type": "stream",
     "text": [
      "not an email address\n"
     ]
    }
   ],
   "source": [
    "if matched:\n",
    "    print(\"this is correct email\")\n",
    "else:\n",
    "    print(\"not an email address\")"
   ]
  },
  {
   "cell_type": "code",
   "execution_count": 17,
   "id": "fdf617ed-2270-4648-be66-63e5c3646f86",
   "metadata": {},
   "outputs": [],
   "source": [
    "# 1. [] pattern []のなかに、何か一文字マッチする文字がある"
   ]
  },
  {
   "cell_type": "code",
   "execution_count": 22,
   "id": "1e3c038b-1f5c-4cdd-9f22-93c0f6a54a48",
   "metadata": {},
   "outputs": [
    {
     "name": "stdout",
     "output_type": "stream",
     "text": [
      "<re.Match object; span=(0, 1), match='a'>\n"
     ]
    }
   ],
   "source": [
    "print(re.search('[abc]', 'apple'))"
   ]
  },
  {
   "cell_type": "code",
   "execution_count": 35,
   "id": "f2bb48d9-ed09-43a9-9b2b-3189cfb3914c",
   "metadata": {},
   "outputs": [
    {
     "name": "stdin",
     "output_type": "stream",
     "text": [
      "YYYY/MM/DDで入力してください 22/22/222\n"
     ]
    }
   ],
   "source": [
    "date = input(\"YYYY/MM/DDで入力してください\")"
   ]
  },
  {
   "cell_type": "code",
   "execution_count": 36,
   "id": "239890ef-5aa9-4b0b-8090-877629b30ae9",
   "metadata": {},
   "outputs": [],
   "source": [
    "match = re.search(\"[0-9]{2,4}/[0-9]{1,2}/[0-9]{1,2}$\", date)"
   ]
  },
  {
   "cell_type": "code",
   "execution_count": 37,
   "id": "9742d8a9-0d92-4142-88a4-7ae933b89d4c",
   "metadata": {},
   "outputs": [
    {
     "name": "stdout",
     "output_type": "stream",
     "text": [
      "None\n"
     ]
    }
   ],
   "source": [
    "print(match)"
   ]
  },
  {
   "cell_type": "code",
   "execution_count": 51,
   "id": "8ed4441d-5e15-43c2-916b-dca6c2eb7f2f",
   "metadata": {},
   "outputs": [],
   "source": [
    "pattern_email = \"^(\\w|\\.|-)+@(\\w|\\.|-)+\\.[a-zA-Z]{2,3}\""
   ]
  },
  {
   "cell_type": "code",
   "execution_count": 52,
   "id": "5e08cea1-420f-4cb0-b707-e278d774c15c",
   "metadata": {},
   "outputs": [
    {
     "name": "stdin",
     "output_type": "stream",
     "text": [
      "メールアドレスを入力してください risanoftoday@gmail.com\n"
     ]
    }
   ],
   "source": [
    "email = input(\"メールアドレスを入力してください\")"
   ]
  },
  {
   "cell_type": "code",
   "execution_count": 53,
   "id": "29e4c4ef-f4af-4b67-ba6d-1fd4a3f0e320",
   "metadata": {},
   "outputs": [
    {
     "name": "stdout",
     "output_type": "stream",
     "text": [
      "<re.Match object; span=(0, 22), match='risanoftoday@gmail.com'>\n"
     ]
    }
   ],
   "source": [
    "print(re.search(pattern_email, email))"
   ]
  },
  {
   "cell_type": "code",
   "execution_count": null,
   "id": "b33ccb96-33a6-482f-b12b-2779c10ba552",
   "metadata": {},
   "outputs": [],
   "source": []
  }
 ],
 "metadata": {
  "kernelspec": {
   "display_name": "Python 3 (ipykernel)",
   "language": "python",
   "name": "python3"
  },
  "language_info": {
   "codemirror_mode": {
    "name": "ipython",
    "version": 3
   },
   "file_extension": ".py",
   "mimetype": "text/x-python",
   "name": "python",
   "nbconvert_exporter": "python",
   "pygments_lexer": "ipython3",
   "version": "3.9.13"
  }
 },
 "nbformat": 4,
 "nbformat_minor": 5
}
