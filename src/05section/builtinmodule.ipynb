{
 "cells": [
  {
   "cell_type": "code",
   "execution_count": 13,
   "id": "6c83d0d5-f115-4f6f-a438-e2bbf712eb95",
   "metadata": {},
   "outputs": [],
   "source": [
    "# built in module: time\n",
    "from functools import lru_cache\n",
    "import time"
   ]
  },
  {
   "cell_type": "code",
   "execution_count": 14,
   "id": "79db837f-3be7-49c9-8c85-4741d24cdeb4",
   "metadata": {},
   "outputs": [
    {
     "name": "stdout",
     "output_type": "stream",
     "text": [
      "1676338723.7958975\n"
     ]
    }
   ],
   "source": [
    "print(time.time())"
   ]
  },
  {
   "cell_type": "code",
   "execution_count": 15,
   "id": "923167b4-5a16-45e7-af10-6fe40d1684a0",
   "metadata": {},
   "outputs": [
    {
     "name": "stdout",
     "output_type": "stream",
     "text": [
      "0.0003864765167236328\n"
     ]
    }
   ],
   "source": [
    "before = time.time()\n",
    "# 何かしらの処理\n",
    "after = time.time()\n",
    "\n",
    "print(after - before)"
   ]
  },
  {
   "cell_type": "code",
   "execution_count": 26,
   "id": "966a605b-7ca2-4413-baa9-accc7597e52f",
   "metadata": {},
   "outputs": [],
   "source": [
    "@lru_cache\n",
    "def fib(n):\n",
    "    if n < 2:\n",
    "        return n\n",
    "    else:\n",
    "        return fib(n-1) + fib(n-2)"
   ]
  },
  {
   "cell_type": "code",
   "execution_count": 36,
   "id": "3fd56cfc-fbab-4621-a5b7-d6dc86bb98d0",
   "metadata": {},
   "outputs": [
    {
     "name": "stdout",
     "output_type": "stream",
     "text": [
      "43466557686937456435688527675040625802564660517371780402481729089536555417949051890403879840079255169295922593080322634775209689623239873322471161642996440906533187938298969649928516003704476137795166849228875\n",
      "0.0006146430969238281\n"
     ]
    }
   ],
   "source": [
    "before = time.time()\n",
    "print(fib(1000))\n",
    "after = time.time()\n",
    "\n",
    "print(after - before)"
   ]
  },
  {
   "cell_type": "code",
   "execution_count": 37,
   "id": "9a5c1577-6871-4767-8a6b-8590eadc29d1",
   "metadata": {},
   "outputs": [
    {
     "name": "stdout",
     "output_type": "stream",
     "text": [
      "Tue Feb 14 01:45:23 2023\n"
     ]
    }
   ],
   "source": [
    "# ctime() ローカルの時間を文字列で返す\n",
    "print(time.ctime())"
   ]
  },
  {
   "cell_type": "code",
   "execution_count": 38,
   "id": "35dc5296-3499-4ce9-b1e5-6287aa92f3b4",
   "metadata": {},
   "outputs": [
    {
     "name": "stdout",
     "output_type": "stream",
     "text": [
      "time.struct_time(tm_year=2023, tm_mon=2, tm_mday=14, tm_hour=1, tm_min=45, tm_sec=57, tm_wday=1, tm_yday=45, tm_isdst=0)\n"
     ]
    }
   ],
   "source": [
    "# localtime() 構造化データで返す\n",
    "print(time.localtime())"
   ]
  },
  {
   "cell_type": "code",
   "execution_count": 39,
   "id": "faa4c795-ec55-4f47-860b-d19d0a044c31",
   "metadata": {},
   "outputs": [
    {
     "name": "stdout",
     "output_type": "stream",
     "text": [
      "2023\n"
     ]
    }
   ],
   "source": [
    "print(time.localtime().tm_year)"
   ]
  },
  {
   "cell_type": "code",
   "execution_count": 55,
   "id": "2ba53aa5-8dcc-4aa4-be59-4fa3b885d42b",
   "metadata": {},
   "outputs": [],
   "source": [
    "def timer(func):\n",
    "    def inner_func(*args, **kwargs):\n",
    "        start = time.time()\n",
    "        func(*args, **kwargs)\n",
    "        end = time.time()\n",
    "        print(f\"{func.__name__}は{end - start}秒かかりました\")\n",
    "        return\n",
    "    \n",
    "    return inner_func"
   ]
  },
  {
   "cell_type": "code",
   "execution_count": 56,
   "id": "2a67b2d4-ae16-46e1-a362-60b4aa9b1716",
   "metadata": {},
   "outputs": [],
   "source": [
    "@timer\n",
    "def lazy_func(n):\n",
    "    print(\"working so hard...\")\n",
    "    time.sleep(n)\n",
    "    print(\"finished!\")"
   ]
  },
  {
   "cell_type": "code",
   "execution_count": 57,
   "id": "4c48b274-9342-44de-9986-32d46bcd22dc",
   "metadata": {},
   "outputs": [
    {
     "name": "stdout",
     "output_type": "stream",
     "text": [
      "working so hard...\n",
      "finished!\n",
      "lazy_funcは5.0068604946136475秒かかりました\n"
     ]
    }
   ],
   "source": [
    "lazy_func(5)"
   ]
  },
  {
   "cell_type": "code",
   "execution_count": null,
   "id": "95199ca2-88e6-4719-8518-cb367e071081",
   "metadata": {},
   "outputs": [],
   "source": []
  }
 ],
 "metadata": {
  "kernelspec": {
   "display_name": "Python 3 (ipykernel)",
   "language": "python",
   "name": "python3"
  },
  "language_info": {
   "codemirror_mode": {
    "name": "ipython",
    "version": 3
   },
   "file_extension": ".py",
   "mimetype": "text/x-python",
   "name": "python",
   "nbconvert_exporter": "python",
   "pygments_lexer": "ipython3",
   "version": "3.9.13"
  }
 },
 "nbformat": 4,
 "nbformat_minor": 5
}
