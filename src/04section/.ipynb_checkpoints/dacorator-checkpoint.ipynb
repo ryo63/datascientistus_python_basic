{
 "cells": [
  {
   "cell_type": "code",
   "execution_count": 1,
   "id": "e0610548-707a-4c3b-8cae-71e99bb4fca9",
   "metadata": {},
   "outputs": [],
   "source": [
    "# Dacorator: 関数に機能を付属する(デコレートする)"
   ]
  },
  {
   "cell_type": "code",
   "execution_count": null,
   "id": "6d097f2a-8683-4b9a-8c87-5c31de8870f1",
   "metadata": {},
   "outputs": [],
   "source": []
  }
 ],
 "metadata": {
  "kernelspec": {
   "display_name": "Python 3 (ipykernel)",
   "language": "python",
   "name": "python3"
  },
  "language_info": {
   "codemirror_mode": {
    "name": "ipython",
    "version": 3
   },
   "file_extension": ".py",
   "mimetype": "text/x-python",
   "name": "python",
   "nbconvert_exporter": "python",
   "pygments_lexer": "ipython3",
   "version": "3.9.13"
  }
 },
 "nbformat": 4,
 "nbformat_minor": 5
}
